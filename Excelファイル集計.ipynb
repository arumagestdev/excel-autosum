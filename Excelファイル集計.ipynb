{
 "cells": [
  {
   "cell_type": "code",
   "execution_count": 3,
   "id": "bb0ea489",
   "metadata": {},
   "outputs": [],
   "source": [
    "import pandas as pd\n",
    "from glob import glob\n",
    "\n",
    "def extract(filepath):\n",
    "    _df = pd.read_excel(filepath)\n",
    "    columns = _df.iloc[10, [1, 2, 4, 10, 11, 14]]\n",
    "    df = _df.iloc[11:23, [1, 2, 4, 10, 11, 14]]\n",
    "    df.columns = columns\n",
    "    df['企業名'] = _df.iloc[2, 0]\n",
    "    df['企業コード'] = _df.iloc[3, 4]\n",
    "    df['請求書No'] = _df.iloc[2, 12]\n",
    "    df['発行日'] = _df.iloc[3, 12]\n",
    "    df['発行者'] = _df.iloc[4, 12]\n",
    "    df['発行者コード'] = _df.iloc[4, 13]\n",
    "    return df\n",
    "\n",
    "filepaths = glob('desktop/Excel請求書自動集約/請求書/*.xlsx')\n",
    "df = pd.DataFrame()\n",
    "\n",
    "for filepath in filepaths:\n",
    "    _df = extract(filepath)\n",
    "    df = pd.concat([df, _df])\n",
    "\n",
    "df = df.dropna()\n",
    "df = df.iloc[:, [6, 7, 8, 9, 10, 11, 0, 1, 2, 3, 4, 5]]\n",
    "\n",
    "df.to_excel(\"desktop/Excel請求書自動集約/all_data.xlsx\", index=False)"
   ]
  }
 ],
 "metadata": {
  "kernelspec": {
   "display_name": "test_env",
   "language": "python",
   "name": "test_env"
  },
  "language_info": {
   "codemirror_mode": {
    "name": "ipython",
    "version": 3
   },
   "file_extension": ".py",
   "mimetype": "text/x-python",
   "name": "python",
   "nbconvert_exporter": "python",
   "pygments_lexer": "ipython3",
   "version": "3.9.5"
  }
 },
 "nbformat": 4,
 "nbformat_minor": 5
}
